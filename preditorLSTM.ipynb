{
  "nbformat": 4,
  "nbformat_minor": 0,
  "metadata": {
    "colab": {
      "name": "Untitled0.ipynb",
      "provenance": [],
      "authorship_tag": "ABX9TyMxLVqixrH/ssn6GOljq+A6",
      "include_colab_link": true
    },
    "kernelspec": {
      "name": "python3",
      "display_name": "Python 3"
    }
  },
  "cells": [
    {
      "cell_type": "markdown",
      "metadata": {
        "id": "view-in-github",
        "colab_type": "text"
      },
      "source": [
        "<a href=\"https://colab.research.google.com/github/RenanProjetos/hello/blob/master/preditorLSTM.ipynb\" target=\"_parent\"><img src=\"https://colab.research.google.com/assets/colab-badge.svg\" alt=\"Open In Colab\"/></a>"
      ]
    },
    {
      "cell_type": "code",
      "metadata": {
        "id": "T4CN12r0cRNL",
        "colab_type": "code",
        "colab": {}
      },
      "source": [
        "import math\n",
        "import pandas_datareader as web\n",
        "import numpy as np\n",
        "import pandas as pd \n",
        "from sklearn.preprocessing import MinMaxScaler\n",
        "from keras.models import Sequential\n",
        "from keras.layers import Dense, LSTM\n",
        "import matplotlib.pyplot as plt\n",
        "plt.style.use('fivethirtyeight')"
      ],
      "execution_count": 0,
      "outputs": []
    },
    {
      "cell_type": "code",
      "metadata": {
        "id": "U3dGXtW4cv7y",
        "colab_type": "code",
        "colab": {}
      },
      "source": [
        "df = web.DataReader(\"BBD\", data_source='yahoo', start= '2019-01-01', end= '2020-05-19')"
      ],
      "execution_count": 0,
      "outputs": []
    },
    {
      "cell_type": "code",
      "metadata": {
        "id": "WqhdEMtJc1QB",
        "colab_type": "code",
        "outputId": "4b30466a-c20e-41f7-b813-c6c2c23ea63d",
        "colab": {
          "base_uri": "https://localhost:8080/",
          "height": 450
        }
      },
      "source": [
        "df"
      ],
      "execution_count": 143,
      "outputs": [
        {
          "output_type": "execute_result",
          "data": {
            "text/html": [
              "<div>\n",
              "<style scoped>\n",
              "    .dataframe tbody tr th:only-of-type {\n",
              "        vertical-align: middle;\n",
              "    }\n",
              "\n",
              "    .dataframe tbody tr th {\n",
              "        vertical-align: top;\n",
              "    }\n",
              "\n",
              "    .dataframe thead th {\n",
              "        text-align: right;\n",
              "    }\n",
              "</style>\n",
              "<table border=\"1\" class=\"dataframe\">\n",
              "  <thead>\n",
              "    <tr style=\"text-align: right;\">\n",
              "      <th></th>\n",
              "      <th>High</th>\n",
              "      <th>Low</th>\n",
              "      <th>Open</th>\n",
              "      <th>Close</th>\n",
              "      <th>Volume</th>\n",
              "      <th>Adj Close</th>\n",
              "    </tr>\n",
              "    <tr>\n",
              "      <th>Date</th>\n",
              "      <th></th>\n",
              "      <th></th>\n",
              "      <th></th>\n",
              "      <th></th>\n",
              "      <th></th>\n",
              "      <th></th>\n",
              "    </tr>\n",
              "  </thead>\n",
              "  <tbody>\n",
              "    <tr>\n",
              "      <th>2019-01-02</th>\n",
              "      <td>8.900000</td>\n",
              "      <td>8.375000</td>\n",
              "      <td>8.400000</td>\n",
              "      <td>8.841666</td>\n",
              "      <td>21553500.0</td>\n",
              "      <td>8.292581</td>\n",
              "    </tr>\n",
              "    <tr>\n",
              "      <th>2019-01-03</th>\n",
              "      <td>9.008333</td>\n",
              "      <td>8.791667</td>\n",
              "      <td>8.916667</td>\n",
              "      <td>8.950000</td>\n",
              "      <td>16034800.0</td>\n",
              "      <td>8.399035</td>\n",
              "    </tr>\n",
              "    <tr>\n",
              "      <th>2019-01-04</th>\n",
              "      <td>9.191667</td>\n",
              "      <td>8.808333</td>\n",
              "      <td>8.883333</td>\n",
              "      <td>9.066667</td>\n",
              "      <td>15384000.0</td>\n",
              "      <td>8.508523</td>\n",
              "    </tr>\n",
              "    <tr>\n",
              "      <th>2019-01-07</th>\n",
              "      <td>9.216666</td>\n",
              "      <td>9.016666</td>\n",
              "      <td>9.200000</td>\n",
              "      <td>9.041667</td>\n",
              "      <td>22475500.0</td>\n",
              "      <td>8.485060</td>\n",
              "    </tr>\n",
              "    <tr>\n",
              "      <th>2019-01-08</th>\n",
              "      <td>9.225000</td>\n",
              "      <td>8.916667</td>\n",
              "      <td>9.000000</td>\n",
              "      <td>9.191667</td>\n",
              "      <td>22215600.0</td>\n",
              "      <td>8.625822</td>\n",
              "    </tr>\n",
              "    <tr>\n",
              "      <th>...</th>\n",
              "      <td>...</td>\n",
              "      <td>...</td>\n",
              "      <td>...</td>\n",
              "      <td>...</td>\n",
              "      <td>...</td>\n",
              "      <td>...</td>\n",
              "    </tr>\n",
              "    <tr>\n",
              "      <th>2020-05-13</th>\n",
              "      <td>2.980000</td>\n",
              "      <td>2.790000</td>\n",
              "      <td>2.960000</td>\n",
              "      <td>2.870000</td>\n",
              "      <td>24935400.0</td>\n",
              "      <td>2.870000</td>\n",
              "    </tr>\n",
              "    <tr>\n",
              "      <th>2020-05-14</th>\n",
              "      <td>3.060000</td>\n",
              "      <td>2.680000</td>\n",
              "      <td>2.790000</td>\n",
              "      <td>3.040000</td>\n",
              "      <td>36485200.0</td>\n",
              "      <td>3.040000</td>\n",
              "    </tr>\n",
              "    <tr>\n",
              "      <th>2020-05-15</th>\n",
              "      <td>3.110000</td>\n",
              "      <td>2.920000</td>\n",
              "      <td>3.050000</td>\n",
              "      <td>2.940000</td>\n",
              "      <td>16980900.0</td>\n",
              "      <td>2.940000</td>\n",
              "    </tr>\n",
              "    <tr>\n",
              "      <th>2020-05-18</th>\n",
              "      <td>3.140000</td>\n",
              "      <td>3.020000</td>\n",
              "      <td>3.100000</td>\n",
              "      <td>3.110000</td>\n",
              "      <td>33778000.0</td>\n",
              "      <td>3.110000</td>\n",
              "    </tr>\n",
              "    <tr>\n",
              "      <th>2020-05-19</th>\n",
              "      <td>3.120000</td>\n",
              "      <td>3.000000</td>\n",
              "      <td>3.110000</td>\n",
              "      <td>3.000000</td>\n",
              "      <td>25243100.0</td>\n",
              "      <td>3.000000</td>\n",
              "    </tr>\n",
              "  </tbody>\n",
              "</table>\n",
              "<p>348 rows × 6 columns</p>\n",
              "</div>"
            ],
            "text/plain": [
              "                High       Low      Open     Close      Volume  Adj Close\n",
              "Date                                                                     \n",
              "2019-01-02  8.900000  8.375000  8.400000  8.841666  21553500.0   8.292581\n",
              "2019-01-03  9.008333  8.791667  8.916667  8.950000  16034800.0   8.399035\n",
              "2019-01-04  9.191667  8.808333  8.883333  9.066667  15384000.0   8.508523\n",
              "2019-01-07  9.216666  9.016666  9.200000  9.041667  22475500.0   8.485060\n",
              "2019-01-08  9.225000  8.916667  9.000000  9.191667  22215600.0   8.625822\n",
              "...              ...       ...       ...       ...         ...        ...\n",
              "2020-05-13  2.980000  2.790000  2.960000  2.870000  24935400.0   2.870000\n",
              "2020-05-14  3.060000  2.680000  2.790000  3.040000  36485200.0   3.040000\n",
              "2020-05-15  3.110000  2.920000  3.050000  2.940000  16980900.0   2.940000\n",
              "2020-05-18  3.140000  3.020000  3.100000  3.110000  33778000.0   3.110000\n",
              "2020-05-19  3.120000  3.000000  3.110000  3.000000  25243100.0   3.000000\n",
              "\n",
              "[348 rows x 6 columns]"
            ]
          },
          "metadata": {
            "tags": []
          },
          "execution_count": 143
        }
      ]
    },
    {
      "cell_type": "code",
      "metadata": {
        "id": "P97_QVDTd3E8",
        "colab_type": "code",
        "outputId": "8bed60cc-b819-4fd8-e7ff-badc2a3672bb",
        "colab": {
          "base_uri": "https://localhost:8080/",
          "height": 34
        }
      },
      "source": [
        "df.shape"
      ],
      "execution_count": 144,
      "outputs": [
        {
          "output_type": "execute_result",
          "data": {
            "text/plain": [
              "(348, 6)"
            ]
          },
          "metadata": {
            "tags": []
          },
          "execution_count": 144
        }
      ]
    },
    {
      "cell_type": "code",
      "metadata": {
        "colab_type": "code",
        "outputId": "809ff653-061e-4d2c-cb06-2fadbad00ee5",
        "id": "IozAIBwbfy9k",
        "colab": {
          "base_uri": "https://localhost:8080/",
          "height": 458
        }
      },
      "source": [
        "plt.figure(figsize=(16,8))\n",
        "plt.title('Valor após o mercado fechar ')\n",
        "plt.plot(df['Close'])\n",
        "plt.xlabel('Período', fontsize=18)\n",
        "plt.ylabel('Preço em Dólar USD ($)', fontsize=18)\n",
        "plt.show()"
      ],
      "execution_count": 145,
      "outputs": [
        {
          "output_type": "display_data",
          "data": {
            "image/png": "[encoded data removed]",
            "text/plain": [
              "<Figure size 1152x576 with 1 Axes>"
            ]
          },
          "metadata": {
            "tags": []
          }
        }
      ]
    },
    {
      "cell_type": "code",
      "metadata": {
        "id": "HbXl2_hbf9yT",
        "colab_type": "code",
        "outputId": "d87f2771-0f50-467e-8c15-129d1c421ea2",
        "colab": {
          "base_uri": "https://localhost:8080/",
          "height": 34
        }
      },
      "source": [
        "data = df.filter(['Close'])\n",
        "\n",
        "dataset = data.values\n",
        "\n",
        "training_data_len = math.ceil( len(dataset) * .8 )\n",
        "\n",
        "training_data_len"
      ],
      "execution_count": 146,
      "outputs": [
        {
          "output_type": "execute_result",
          "data": {
            "text/plain": [
              "279"
            ]
          },
          "metadata": {
            "tags": []
          },
          "execution_count": 146
        }
      ]
    },
    {
      "cell_type": "code",
      "metadata": {
        "id": "knwaWfSKigoN",
        "colab_type": "code",
        "colab": {}
      },
      "source": [
        "scaler = MinMaxScaler (feature_range=(0,1))\n",
        "scaled_data = scaler.fit_transform(dataset)\n"
      ],
      "execution_count": 0,
      "outputs": []
    },
    {
      "cell_type": "code",
      "metadata": {
        "id": "JL7kF6tJkUSk",
        "colab_type": "code",
        "outputId": "545ccea6-466d-4271-a7ce-187a77db0abd",
        "colab": {
          "base_uri": "https://localhost:8080/",
          "height": 1000
        }
      },
      "source": [
        "scaled_data"
      ],
      "execution_count": 148,
      "outputs": [
        {
          "output_type": "execute_result",
          "data": {
            "text/plain": [
              "array([[0.79410452],\n",
              "       [0.80851058],\n",
              "       [0.82402478],\n",
              "       [0.82070036],\n",
              "       [0.84064712],\n",
              "       [0.87278366],\n",
              "       [0.86391842],\n",
              "       [0.85505318],\n",
              "       [0.86835098],\n",
              "       [0.86281028],\n",
              "       [0.85948574],\n",
              "       [0.8661347 ],\n",
              "       [0.87610808],\n",
              "       [0.83067374],\n",
              "       [0.87167552],\n",
              "       [0.87943262],\n",
              "       [0.89383855],\n",
              "       [0.88386518],\n",
              "       [0.8971631 ],\n",
              "       [0.90159565],\n",
              "       [0.99468086],\n",
              "       [0.97251769],\n",
              "       [0.99135631],\n",
              "       [0.99246445],\n",
              "       [0.92486695],\n",
              "       [0.93262406],\n",
              "       [0.9359486 ],\n",
              "       [0.92375882],\n",
              "       [0.96143618],\n",
              "       [0.92929964],\n",
              "       [0.98359921],\n",
              "       [0.99135631],\n",
              "       [0.96032791],\n",
              "       [0.94148929],\n",
              "       [0.9359486 ],\n",
              "       [0.93373219],\n",
              "       [0.92154254],\n",
              "       [0.94481384],\n",
              "       [0.93705674],\n",
              "       [0.89051414],\n",
              "       [0.86281028],\n",
              "       [0.86170214],\n",
              "       [0.87278366],\n",
              "       [0.8351063 ],\n",
              "       [0.83067374],\n",
              "       [0.84840422],\n",
              "       [0.90935275],\n",
              "       [0.91600172],\n",
              "       [0.92929964],\n",
              "       [0.92597509],\n",
              "       [0.93816488],\n",
              "       [0.95811163],\n",
              "       [0.93373219],\n",
              "       [0.91046089],\n",
              "       [0.86170214],\n",
              "       [0.78745568],\n",
              "       [0.80296988],\n",
              "       [0.81183512],\n",
              "       [0.74867018],\n",
              "       [0.80296988],\n",
              "       [0.8273492 ],\n",
              "       [0.84973404],\n",
              "       [0.83776593],\n",
              "       [0.8218085 ],\n",
              "       [0.856383  ],\n",
              "       [0.86702128],\n",
              "       [0.86968079],\n",
              "       [0.86170214],\n",
              "       [0.86037232],\n",
              "       [0.82845746],\n",
              "       [0.80718076],\n",
              "       [0.80851058],\n",
              "       [0.79654247],\n",
              "       [0.77393608],\n",
              "       [0.79122333],\n",
              "       [0.79787229],\n",
              "       [0.82579783],\n",
              "       [0.79920211],\n",
              "       [0.82446801],\n",
              "       [0.83111697],\n",
              "       [0.81117021],\n",
              "       [0.82313832],\n",
              "       [0.80452125],\n",
              "       [0.8124999 ],\n",
              "       [0.83244679],\n",
              "       [0.79122333],\n",
              "       [0.78191486],\n",
              "       [0.81515954],\n",
              "       [0.78989364],\n",
              "       [0.78324468],\n",
              "       [0.7406914 ],\n",
              "       [0.73936171],\n",
              "       [0.71808514],\n",
              "       [0.69414893],\n",
              "       [0.68351064],\n",
              "       [0.71143618],\n",
              "       [0.76595743],\n",
              "       [0.76462761],\n",
              "       [0.75265951],\n",
              "       [0.74734036],\n",
              "       [0.78324468],\n",
              "       [0.81914887],\n",
              "       [0.84574458],\n",
              "       [0.86303183],\n",
              "       [0.87234043],\n",
              "       [0.88696804],\n",
              "       [0.86037232],\n",
              "       [0.88829786],\n",
              "       [0.89228718],\n",
              "       [0.87499994],\n",
              "       [0.89494682],\n",
              "       [0.86835098],\n",
              "       [0.86702128],\n",
              "       [0.83909575],\n",
              "       [0.83909575],\n",
              "       [0.85771269],\n",
              "       [0.88430853],\n",
              "       [0.91090425],\n",
              "       [0.91090425],\n",
              "       [0.93218082],\n",
              "       [0.90957443],\n",
              "       [0.92952119],\n",
              "       [0.92420205],\n",
              "       [0.92420205],\n",
              "       [0.91356376],\n",
              "       [0.91090425],\n",
              "       [0.92686168],\n",
              "       [0.98005312],\n",
              "       [0.98005312],\n",
              "       [0.9880319 ],\n",
              "       [1.        ],\n",
              "       [0.98138293],\n",
              "       [0.97340416],\n",
              "       [0.95212758],\n",
              "       [0.94680844],\n",
              "       [0.94414893],\n",
              "       [0.98537226],\n",
              "       [0.94547862],\n",
              "       [0.96808501],\n",
              "       [0.96010636],\n",
              "       [0.98271275],\n",
              "       [0.90292547],\n",
              "       [0.89494682],\n",
              "       [0.88696804],\n",
              "       [0.85239354],\n",
              "       [0.82047868],\n",
              "       [0.79920211],\n",
              "       [0.7845745 ],\n",
              "       [0.74468086],\n",
              "       [0.7619681 ],\n",
              "       [0.78324468],\n",
              "       [0.79920211],\n",
              "       [0.77792554],\n",
              "       [0.74202122],\n",
              "       [0.75797865],\n",
              "       [0.71010636],\n",
              "       [0.7154255 ],\n",
              "       [0.71808514],\n",
              "       [0.68749997],\n",
              "       [0.68351064],\n",
              "       [0.70478722],\n",
              "       [0.68484046],\n",
              "       [0.64494676],\n",
              "       [0.6316489 ],\n",
              "       [0.63696804],\n",
              "       [0.63563829],\n",
              "       [0.65425529],\n",
              "       [0.68085101],\n",
              "       [0.63962761],\n",
              "       [0.66622339],\n",
              "       [0.6901596 ],\n",
              "       [0.73404257],\n",
              "       [0.74468086],\n",
              "       [0.73005312],\n",
              "       [0.73404257],\n",
              "       [0.72606379],\n",
              "       [0.70212758],\n",
              "       [0.68617015],\n",
              "       [0.71143618],\n",
              "       [0.71143618],\n",
              "       [0.6901596 ],\n",
              "       [0.69946807],\n",
              "       [0.69813826],\n",
              "       [0.6901596 ],\n",
              "       [0.70212758],\n",
              "       [0.71409569],\n",
              "       [0.7154255 ],\n",
              "       [0.70079789],\n",
              "       [0.67819144],\n",
              "       [0.65159572],\n",
              "       [0.65957443],\n",
              "       [0.68085101],\n",
              "       [0.66356382],\n",
              "       [0.66489358],\n",
              "       [0.68749997],\n",
              "       [0.69813826],\n",
              "       [0.71808514],\n",
              "       [0.71941483],\n",
              "       [0.71941483],\n",
              "       [0.74734036],\n",
              "       [0.73005312],\n",
              "       [0.70212758],\n",
              "       [0.70079789],\n",
              "       [0.75132982],\n",
              "       [0.7752659 ],\n",
              "       [0.77393608],\n",
              "       [0.79521278],\n",
              "       [0.83909575],\n",
              "       [0.82579783],\n",
              "       [0.82845746],\n",
              "       [0.78324468],\n",
              "       [0.77659572],\n",
              "       [0.76861694],\n",
              "       [0.78856382],\n",
              "       [0.7632978 ],\n",
              "       [0.75531914],\n",
              "       [0.70877654],\n",
              "       [0.70744672],\n",
              "       [0.69148929],\n",
              "       [0.67686168],\n",
              "       [0.67021272],\n",
              "       [0.68617015],\n",
              "       [0.66356382],\n",
              "       [0.65824468],\n",
              "       [0.65159572],\n",
              "       [0.66755315],\n",
              "       [0.68218082],\n",
              "       [0.67287229],\n",
              "       [0.65159572],\n",
              "       [0.662234  ],\n",
              "       [0.662234  ],\n",
              "       [0.67553186],\n",
              "       [0.68218082],\n",
              "       [0.7034574 ],\n",
              "       [0.71409569],\n",
              "       [0.71941483],\n",
              "       [0.72340428],\n",
              "       [0.71808514],\n",
              "       [0.71409569],\n",
              "       [0.7406914 ],\n",
              "       [0.7406914 ],\n",
              "       [0.73670208],\n",
              "       [0.75      ],\n",
              "       [0.78058504],\n",
              "       [0.79787229],\n",
              "       [0.7619681 ],\n",
              "       [0.77925523],\n",
              "       [0.78191486],\n",
              "       [0.80718076],\n",
              "       [0.80186162],\n",
              "       [0.80851058],\n",
              "       [0.80851058],\n",
              "       [0.84574458],\n",
              "       [0.84840422],\n",
              "       [0.81648936],\n",
              "       [0.79521278],\n",
              "       [0.77659572],\n",
              "       [0.75664896],\n",
              "       [0.73138293],\n",
              "       [0.72872343],\n",
              "       [0.73271275],\n",
              "       [0.69813826],\n",
              "       [0.71409569],\n",
              "       [0.7406914 ],\n",
              "       [0.67154254],\n",
              "       [0.68484046],\n",
              "       [0.71941483],\n",
              "       [0.7034574 ],\n",
              "       [0.67154254],\n",
              "       [0.67819144],\n",
              "       [0.65292554],\n",
              "       [0.65691486],\n",
              "       [0.63297872],\n",
              "       [0.64893615],\n",
              "       [0.65026596],\n",
              "       [0.66489358],\n",
              "       [0.65292554],\n",
              "       [0.65558511],\n",
              "       [0.66090425],\n",
              "       [0.66622339],\n",
              "       [0.65159572],\n",
              "       [0.63031914],\n",
              "       [0.62234043],\n",
              "       [0.59175532],\n",
              "       [0.60771275],\n",
              "       [0.5904255 ],\n",
              "       [0.58111697],\n",
              "       [0.54920211],\n",
              "       [0.53324468],\n",
              "       [0.52127657],\n",
              "       [0.51196804],\n",
              "       [0.51994682],\n",
              "       [0.53457443],\n",
              "       [0.50265957],\n",
              "       [0.50531914],\n",
              "       [0.46808508],\n",
              "       [0.43218082],\n",
              "       [0.34840422],\n",
              "       [0.38829786],\n",
              "       [0.31781918],\n",
              "       [0.21010636],\n",
              "       [0.3098404 ],\n",
              "       [0.20744679],\n",
              "       [0.25      ],\n",
              "       [0.14361703],\n",
              "       [0.16356382],\n",
              "       [0.11968086],\n",
              "       [0.07047875],\n",
              "       [0.15425535],\n",
              "       [0.19946807],\n",
              "       [0.21143618],\n",
              "       [0.1595745 ],\n",
              "       [0.16755321],\n",
              "       [0.15824468],\n",
              "       [0.12101064],\n",
              "       [0.12234043],\n",
              "       [0.09042554],\n",
              "       [0.14494682],\n",
              "       [0.16622339],\n",
              "       [0.20079789],\n",
              "       [0.19946807],\n",
              "       [0.20079789],\n",
              "       [0.15691492],\n",
              "       [0.1369681 ],\n",
              "       [0.11968086],\n",
              "       [0.13031914],\n",
              "       [0.106383  ],\n",
              "       [0.08643618],\n",
              "       [0.09707446],\n",
              "       [0.08111703],\n",
              "       [0.03324468],\n",
              "       [0.04920214],\n",
              "       [0.09707446],\n",
              "       [0.12898936],\n",
              "       [0.08643618],\n",
              "       [0.06117021],\n",
              "       [0.05851064],\n",
              "       [0.0531915 ],\n",
              "       [0.03723407],\n",
              "       [0.01329789],\n",
              "       [0.04122343],\n",
              "       [0.02393618],\n",
              "       [0.00664896],\n",
              "       [0.        ],\n",
              "       [0.02260639],\n",
              "       [0.00930853],\n",
              "       [0.03191489],\n",
              "       [0.01728725]])"
            ]
          },
          "metadata": {
            "tags": []
          },
          "execution_count": 148
        }
      ]
    },
    {
      "cell_type": "code",
      "metadata": {
        "id": "ZTKzslQFk4rt",
        "colab_type": "code",
        "outputId": "b3cde273-144f-4d8f-8573-2efb8b85a6b3",
        "colab": {
          "base_uri": "https://localhost:8080/",
          "height": 700
        }
      },
      "source": [
        " train_data = scaled_data[0:training_data_len , : ]\n",
        " x_train = []\n",
        " y_train = []\n",
        " for i in range(60, len(train_data)):\n",
        "   x_train.append(train_data[i-60:i, 0])\n",
        "   y_train.append(train_data[i, 0])\n",
        "   if i<= 61:\n",
        "      print(x_train)\n",
        "      print(y_train)\n",
        "      print()"
      ],
      "execution_count": 149,
      "outputs": [
        {
          "output_type": "stream",
          "text": [
            "[array([0.79410452, 0.80851058, 0.82402478, 0.82070036, 0.84064712,\n",
            "       0.87278366, 0.86391842, 0.85505318, 0.86835098, 0.86281028,\n",
            "       0.85948574, 0.8661347 , 0.87610808, 0.83067374, 0.87167552,\n",
            "       0.87943262, 0.89383855, 0.88386518, 0.8971631 , 0.90159565,\n",
            "       0.99468086, 0.97251769, 0.99135631, 0.99246445, 0.92486695,\n",
            "       0.93262406, 0.9359486 , 0.92375882, 0.96143618, 0.92929964,\n",
            "       0.98359921, 0.99135631, 0.96032791, 0.94148929, 0.9359486 ,\n",
            "       0.93373219, 0.92154254, 0.94481384, 0.93705674, 0.89051414,\n",
            "       0.86281028, 0.86170214, 0.87278366, 0.8351063 , 0.83067374,\n",
            "       0.84840422, 0.90935275, 0.91600172, 0.92929964, 0.92597509,\n",
            "       0.93816488, 0.95811163, 0.93373219, 0.91046089, 0.86170214,\n",
            "       0.78745568, 0.80296988, 0.81183512, 0.74867018, 0.80296988])]\n",
            "[0.8273491964533463]\n",
            "\n",
            "[array([0.79410452, 0.80851058, 0.82402478, 0.82070036, 0.84064712,\n",
            "       0.87278366, 0.86391842, 0.85505318, 0.86835098, 0.86281028,\n",
            "       0.85948574, 0.8661347 , 0.87610808, 0.83067374, 0.87167552,\n",
            "       0.87943262, 0.89383855, 0.88386518, 0.8971631 , 0.90159565,\n",
            "       0.99468086, 0.97251769, 0.99135631, 0.99246445, 0.92486695,\n",
            "       0.93262406, 0.9359486 , 0.92375882, 0.96143618, 0.92929964,\n",
            "       0.98359921, 0.99135631, 0.96032791, 0.94148929, 0.9359486 ,\n",
            "       0.93373219, 0.92154254, 0.94481384, 0.93705674, 0.89051414,\n",
            "       0.86281028, 0.86170214, 0.87278366, 0.8351063 , 0.83067374,\n",
            "       0.84840422, 0.90935275, 0.91600172, 0.92929964, 0.92597509,\n",
            "       0.93816488, 0.95811163, 0.93373219, 0.91046089, 0.86170214,\n",
            "       0.78745568, 0.80296988, 0.81183512, 0.74867018, 0.80296988]), array([0.80851058, 0.82402478, 0.82070036, 0.84064712, 0.87278366,\n",
            "       0.86391842, 0.85505318, 0.86835098, 0.86281028, 0.85948574,\n",
            "       0.8661347 , 0.87610808, 0.83067374, 0.87167552, 0.87943262,\n",
            "       0.89383855, 0.88386518, 0.8971631 , 0.90159565, 0.99468086,\n",
            "       0.97251769, 0.99135631, 0.99246445, 0.92486695, 0.93262406,\n",
            "       0.9359486 , 0.92375882, 0.96143618, 0.92929964, 0.98359921,\n",
            "       0.99135631, 0.96032791, 0.94148929, 0.9359486 , 0.93373219,\n",
            "       0.92154254, 0.94481384, 0.93705674, 0.89051414, 0.86281028,\n",
            "       0.86170214, 0.87278366, 0.8351063 , 0.83067374, 0.84840422,\n",
            "       0.90935275, 0.91600172, 0.92929964, 0.92597509, 0.93816488,\n",
            "       0.95811163, 0.93373219, 0.91046089, 0.86170214, 0.78745568,\n",
            "       0.80296988, 0.81183512, 0.74867018, 0.80296988, 0.8273492 ])]\n",
            "[0.8273491964533463, 0.8497340364820986]\n",
            "\n"
          ],
          "name": "stdout"
        }
      ]
    },
    {
      "cell_type": "code",
      "metadata": {
        "id": "ji_Yo3WImrEC",
        "colab_type": "code",
        "colab": {}
      },
      "source": [
        " x_train, y_train = np.array(x_train), np.array(y_train)\n"
      ],
      "execution_count": 0,
      "outputs": []
    },
    {
      "cell_type": "code",
      "metadata": {
        "id": "rPgDGedrm7G9",
        "colab_type": "code",
        "outputId": "ada4a89b-2cf3-4a62-e6b4-68e5995a0c16",
        "colab": {
          "base_uri": "https://localhost:8080/",
          "height": 34
        }
      },
      "source": [
        " x_train = np.reshape(x_train, (x_train.shape[0], x_train.shape[1],1 ))\n",
        " x_train.shape"
      ],
      "execution_count": 151,
      "outputs": [
        {
          "output_type": "execute_result",
          "data": {
            "text/plain": [
              "(219, 60, 1)"
            ]
          },
          "metadata": {
            "tags": []
          },
          "execution_count": 151
        }
      ]
    },
    {
      "cell_type": "code",
      "metadata": {
        "id": "D45snYqbnLnf",
        "colab_type": "code",
        "colab": {}
      },
      "source": [
        "model = Sequential()\n",
        "model.add(LSTM(50, return_sequences=True, input_shape= (x_train.shape[1], 1)))\n",
        "model.add(LSTM(50, return_sequences= False))\n",
        "model.add(Dense(25))\n",
        "model.add(Dense(1))"
      ],
      "execution_count": 0,
      "outputs": []
    },
    {
      "cell_type": "code",
      "metadata": {
        "id": "ckDQvc6CniPb",
        "colab_type": "code",
        "colab": {}
      },
      "source": [
        "model.compile(optimizer='adam', loss='mean_squared_error')"
      ],
      "execution_count": 0,
      "outputs": []
    },
    {
      "cell_type": "code",
      "metadata": {
        "id": "B0oTFCLLoN_0",
        "colab_type": "code",
        "outputId": "4c29366d-f7be-4ea1-9b64-9c5d446331ed",
        "colab": {
          "base_uri": "https://localhost:8080/",
          "height": 68
        }
      },
      "source": [
        "model.fit(x_train, y_train, batch_size=1, epochs=1)"
      ],
      "execution_count": 154,
      "outputs": [
        {
          "output_type": "stream",
          "text": [
            "Epoch 1/1\n",
            "219/219 [==============================] - 9s 42ms/step - loss: 0.0136\n"
          ],
          "name": "stdout"
        },
        {
          "output_type": "execute_result",
          "data": {
            "text/plain": [
              "<keras.callbacks.callbacks.History at 0x7f724148c978>"
            ]
          },
          "metadata": {
            "tags": []
          },
          "execution_count": 154
        }
      ]
    },
    {
      "cell_type": "code",
      "metadata": {
        "id": "6tNyqUiaqM0t",
        "colab_type": "code",
        "colab": {}
      },
      "source": [
        "test_data = scaled_data[training_data_len - 60: , :]\n",
        "x_test = []\n",
        "y_test = dataset[training_data_len:, :]\n",
        "for i in range(60, len(test_data)):\n",
        "     x_test.append(test_data[i-60:i, 0])"
      ],
      "execution_count": 0,
      "outputs": []
    },
    {
      "cell_type": "code",
      "metadata": {
        "id": "wrL4qlO1tTAH",
        "colab_type": "code",
        "colab": {}
      },
      "source": [
        "x_test = np.array(x_test)"
      ],
      "execution_count": 0,
      "outputs": []
    },
    {
      "cell_type": "code",
      "metadata": {
        "id": "DILaezzuuYm1",
        "colab_type": "code",
        "colab": {}
      },
      "source": [
        " x_test = np.reshape(x_test, (x_test.shape[0], x_test.shape[1], 1 ))"
      ],
      "execution_count": 0,
      "outputs": []
    },
    {
      "cell_type": "code",
      "metadata": {
        "id": "rztbGNNyuZvM",
        "colab_type": "code",
        "colab": {}
      },
      "source": [
        " predictions = model.predict(x_test)\n",
        " predictions = scaler.inverse_transform(predictions)"
      ],
      "execution_count": 0,
      "outputs": []
    },
    {
      "cell_type": "code",
      "metadata": {
        "id": "b4GZvXlkurPG",
        "colab_type": "code",
        "outputId": "3e780c56-f4a1-4c5d-fed7-f6b6fe5a2d57",
        "colab": {
          "base_uri": "https://localhost:8080/",
          "height": 34
        }
      },
      "source": [
        "rmse = np.sqrt(np.mean(((predictions- y_test)**2)))\n",
        "rmse\n"
      ],
      "execution_count": 159,
      "outputs": [
        {
          "output_type": "execute_result",
          "data": {
            "text/plain": [
              "1.5649544657508139"
            ]
          },
          "metadata": {
            "tags": []
          },
          "execution_count": 159
        }
      ]
    },
    {
      "cell_type": "code",
      "metadata": {
        "id": "pn3M_J-v7udM",
        "colab_type": "code",
        "outputId": "f7751b7d-e8b1-4188-effa-9d87d9b0ec98",
        "colab": {
          "base_uri": "https://localhost:8080/",
          "height": 580
        }
      },
      "source": [
        "  train = data[:training_data_len]\n",
        "  valid = data[training_data_len:]\n",
        "  valid['Predictions'] = predictions\n",
        "  \n",
        "  plt.figure(figsize=(16,8))\n",
        "  plt.title('Gráfico com a Predição')\n",
        "  plt.xlabel('Período', fontsize=18)\n",
        "  plt.ylabel('Valor em Dólar USD ($)', fontsize=18)\n",
        "  plt.plot(train['Close'])\n",
        "  plt.plot(valid[['Close', 'Predictions']])\n",
        "  plt.legend(['Linha de Fluxo', 'Valor real', 'Predição'], loc='lower right')\n",
        "  plt.show() "
      ],
      "execution_count": 164,
      "outputs": [
        {
          "output_type": "stream",
          "text": [
            "/usr/local/lib/python3.6/dist-packages/ipykernel_launcher.py:3: SettingWithCopyWarning: \n",
            "A value is trying to be set on a copy of a slice from a DataFrame.\n",
            "Try using .loc[row_indexer,col_indexer] = value instead\n",
            "\n",
            "See the caveats in the documentation: https://pandas.pydata.org/pandas-docs/stable/user_guide/indexing.html#returning-a-view-versus-a-copy\n",
            "  This is separate from the ipykernel package so we can avoid doing imports until\n"
          ],
          "name": "stderr"
        },
        {
          "output_type": "display_data",
          "data": {
            "image/png": "[encoded data removed]",
            "text/plain": [
              "<Figure size 1152x576 with 1 Axes>"
            ]
          },
          "metadata": {
            "tags": []
          }
        }
      ]
    },
    {
      "cell_type": "code",
      "metadata": {
        "id": "Rd9QRP1b9AqD",
        "colab_type": "code",
        "outputId": "0a0a7b55-c78a-4d6b-ee7d-8e4aa9230c5d",
        "colab": {
          "base_uri": "https://localhost:8080/",
          "height": 450
        }
      },
      "source": [
        "valid"
      ],
      "execution_count": 165,
      "outputs": [
        {
          "output_type": "execute_result",
          "data": {
            "text/html": [
              "<div>\n",
              "<style scoped>\n",
              "    .dataframe tbody tr th:only-of-type {\n",
              "        vertical-align: middle;\n",
              "    }\n",
              "\n",
              "    .dataframe tbody tr th {\n",
              "        vertical-align: top;\n",
              "    }\n",
              "\n",
              "    .dataframe thead th {\n",
              "        text-align: right;\n",
              "    }\n",
              "</style>\n",
              "<table border=\"1\" class=\"dataframe\">\n",
              "  <thead>\n",
              "    <tr style=\"text-align: right;\">\n",
              "      <th></th>\n",
              "      <th>Close</th>\n",
              "      <th>Predictions</th>\n",
              "    </tr>\n",
              "    <tr>\n",
              "      <th>Date</th>\n",
              "      <th></th>\n",
              "      <th></th>\n",
              "    </tr>\n",
              "  </thead>\n",
              "  <tbody>\n",
              "    <tr>\n",
              "      <th>2020-02-11</th>\n",
              "      <td>7.88</td>\n",
              "      <td>8.119518</td>\n",
              "    </tr>\n",
              "    <tr>\n",
              "      <th>2020-02-12</th>\n",
              "      <td>7.77</td>\n",
              "      <td>8.110236</td>\n",
              "    </tr>\n",
              "    <tr>\n",
              "      <th>2020-02-13</th>\n",
              "      <td>7.61</td>\n",
              "      <td>8.101017</td>\n",
              "    </tr>\n",
              "    <tr>\n",
              "      <th>2020-02-14</th>\n",
              "      <td>7.55</td>\n",
              "      <td>8.087309</td>\n",
              "    </tr>\n",
              "    <tr>\n",
              "      <th>2020-02-18</th>\n",
              "      <td>7.32</td>\n",
              "      <td>8.069531</td>\n",
              "    </tr>\n",
              "    <tr>\n",
              "      <th>...</th>\n",
              "      <td>...</td>\n",
              "      <td>...</td>\n",
              "    </tr>\n",
              "    <tr>\n",
              "      <th>2020-05-13</th>\n",
              "      <td>2.87</td>\n",
              "      <td>4.687826</td>\n",
              "    </tr>\n",
              "    <tr>\n",
              "      <th>2020-05-14</th>\n",
              "      <td>3.04</td>\n",
              "      <td>4.646800</td>\n",
              "    </tr>\n",
              "    <tr>\n",
              "      <th>2020-05-15</th>\n",
              "      <td>2.94</td>\n",
              "      <td>4.611667</td>\n",
              "    </tr>\n",
              "    <tr>\n",
              "      <th>2020-05-18</th>\n",
              "      <td>3.11</td>\n",
              "      <td>4.578690</td>\n",
              "    </tr>\n",
              "    <tr>\n",
              "      <th>2020-05-19</th>\n",
              "      <td>3.00</td>\n",
              "      <td>4.554102</td>\n",
              "    </tr>\n",
              "  </tbody>\n",
              "</table>\n",
              "<p>69 rows × 2 columns</p>\n",
              "</div>"
            ],
            "text/plain": [
              "            Close  Predictions\n",
              "Date                          \n",
              "2020-02-11   7.88     8.119518\n",
              "2020-02-12   7.77     8.110236\n",
              "2020-02-13   7.61     8.101017\n",
              "2020-02-14   7.55     8.087309\n",
              "2020-02-18   7.32     8.069531\n",
              "...           ...          ...\n",
              "2020-05-13   2.87     4.687826\n",
              "2020-05-14   3.04     4.646800\n",
              "2020-05-15   2.94     4.611667\n",
              "2020-05-18   3.11     4.578690\n",
              "2020-05-19   3.00     4.554102\n",
              "\n",
              "[69 rows x 2 columns]"
            ]
          },
          "metadata": {
            "tags": []
          },
          "execution_count": 165
        }
      ]
    },
    {
      "cell_type": "code",
      "metadata": {
        "id": "JPoC2AyIgwfG",
        "colab_type": "code",
        "outputId": "f9e87935-ddf4-4768-d894-0c42143c2bf9",
        "colab": {
          "base_uri": "https://localhost:8080/",
          "height": 34
        }
      },
      "source": [
        "apple_quote = web.DataReader(\"ABEV\", data_source='yahoo', start='2020-01-01', end= '2020-05-19')\n",
        "new_df = apple_quote.filter(['Close'])\n",
        "last_60_days = new_df[-60:].values\n",
        "last_60_days_scaled = scaler.transform(last_60_days)\n",
        "X_test = []\n",
        "X_test.append(last_60_days_scaled)\n",
        "X_test = np.array(X_test)\n",
        "X_test = np.reshape(X_test, (X_test.shape[0], X_test.shape[1], 1))\n",
        "pred_price = model.predict(X_test)\n",
        "pred_price = scaler.inverse_transform(pred_price)\n",
        "print(pred_price)\n"
      ],
      "execution_count": 162,
      "outputs": [
        {
          "output_type": "stream",
          "text": [
            "[[3.691507]]\n"
          ],
          "name": "stdout"
        }
      ]
    },
    {
      "cell_type": "code",
      "metadata": {
        "id": "J4Mg1koXsn1V",
        "colab_type": "code",
        "outputId": "27890315-3d42-468b-81d5-44e90b50048e",
        "colab": {
          "base_uri": "https://localhost:8080/",
          "height": 238
        }
      },
      "source": [
        "apple_quote2 = web.DataReader('ABEV',data_source='yahoo', start='2019-01-01', end='2020-05-19')\n",
        "print(apple_quote2['Close'])"
      ],
      "execution_count": 163,
      "outputs": [
        {
          "output_type": "stream",
          "text": [
            "Date\n",
            "2019-01-02    4.20\n",
            "2019-01-03    4.24\n",
            "2019-01-04    4.42\n",
            "2019-01-07    4.35\n",
            "2019-01-08    4.33\n",
            "              ... \n",
            "2020-05-13    1.94\n",
            "2020-05-14    2.04\n",
            "2020-05-15    2.02\n",
            "2020-05-18    2.13\n",
            "2020-05-19    2.09\n",
            "Name: Close, Length: 348, dtype: float64\n"
          ],
          "name": "stdout"
        }
      ]
    }
  ]
}